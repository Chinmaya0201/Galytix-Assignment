{
 "cells": [
  {
   "cell_type": "markdown",
   "metadata": {},
   "source": [
    "# Q1 - Ecommerce Purchases Exercise\n",
    "\n",
    "In this Exercise you will be given some Fake Data about some purchases done through Amazon! Just go ahead and follow the directions and try your best to answer the questions and complete the tasks. Feel free to reference the solutions. Most of the tasks can be solved in different ways. For the most part, the questions get progressively harder.\n",
    "\n",
    "Please excuse anything that doesn't make \"Real-World\" sense in the dataframe, all the data is fake and made-up.\n",
    "\n",
    "Also note that all of these questions can be answered with one line of code.\n",
    "____\n",
    "\n",
    "**Import pandas and read in the Ecommerce Purchases csv file and set it to a DataFrame called ecom.**"
   ]
  },
  {
   "cell_type": "code",
   "execution_count": 1,
   "metadata": {
    "collapsed": true
   },
   "outputs": [],
   "source": [
    "import pandas as pd"
   ]
  },
  {
   "cell_type": "code",
   "execution_count": 2,
   "metadata": {
    "collapsed": true
   },
   "outputs": [],
   "source": [
    "df = pd.read_csv(r'E:\\Galytix Assignment\\Updated Python Test (1)\\Excercise- Python Proficiency\\Exercise - Python Proficiency\\data\\Ecommerce Purchases.csv')"
   ]
  },
  {
   "cell_type": "markdown",
   "metadata": {},
   "source": [
    "**Check the head of the DataFrame.**"
   ]
  },
  {
   "cell_type": "code",
   "execution_count": 75,
   "metadata": {},
   "outputs": [
    {
     "data": {
      "text/html": [
       "<div>\n",
       "<style scoped>\n",
       "    .dataframe tbody tr th:only-of-type {\n",
       "        vertical-align: middle;\n",
       "    }\n",
       "\n",
       "    .dataframe tbody tr th {\n",
       "        vertical-align: top;\n",
       "    }\n",
       "\n",
       "    .dataframe thead th {\n",
       "        text-align: right;\n",
       "    }\n",
       "</style>\n",
       "<table border=\"1\" class=\"dataframe\">\n",
       "  <thead>\n",
       "    <tr style=\"text-align: right;\">\n",
       "      <th></th>\n",
       "      <th>Address</th>\n",
       "      <th>Lot</th>\n",
       "      <th>AM or PM</th>\n",
       "      <th>Browser Info</th>\n",
       "      <th>Company</th>\n",
       "      <th>Credit Card</th>\n",
       "      <th>CC Exp Date</th>\n",
       "      <th>CC Security Code</th>\n",
       "      <th>CC Provider</th>\n",
       "      <th>Email</th>\n",
       "      <th>Job</th>\n",
       "      <th>IP Address</th>\n",
       "      <th>Language</th>\n",
       "      <th>Purchase Price</th>\n",
       "    </tr>\n",
       "  </thead>\n",
       "  <tbody>\n",
       "    <tr>\n",
       "      <th>0</th>\n",
       "      <td>16629 Pace Camp Apt. 448\\nAlexisborough, NE 77...</td>\n",
       "      <td>46 in</td>\n",
       "      <td>PM</td>\n",
       "      <td>Opera/9.56.(X11; Linux x86_64; sl-SI) Presto/2...</td>\n",
       "      <td>Martinez-Herman</td>\n",
       "      <td>6011929061123406</td>\n",
       "      <td>02/20</td>\n",
       "      <td>900</td>\n",
       "      <td>JCB 16 digit</td>\n",
       "      <td>pdunlap@yahoo.com</td>\n",
       "      <td>Scientist, product/process development</td>\n",
       "      <td>149.146.147.205</td>\n",
       "      <td>el</td>\n",
       "      <td>98.14</td>\n",
       "    </tr>\n",
       "    <tr>\n",
       "      <th>1</th>\n",
       "      <td>9374 Jasmine Spurs Suite 508\\nSouth John, TN 8...</td>\n",
       "      <td>28 rn</td>\n",
       "      <td>PM</td>\n",
       "      <td>Opera/8.93.(Windows 98; Win 9x 4.90; en-US) Pr...</td>\n",
       "      <td>Fletcher, Richards and Whitaker</td>\n",
       "      <td>3337758169645356</td>\n",
       "      <td>11/18</td>\n",
       "      <td>561</td>\n",
       "      <td>Mastercard</td>\n",
       "      <td>anthony41@reed.com</td>\n",
       "      <td>Drilling engineer</td>\n",
       "      <td>15.160.41.51</td>\n",
       "      <td>fr</td>\n",
       "      <td>70.73</td>\n",
       "    </tr>\n",
       "    <tr>\n",
       "      <th>2</th>\n",
       "      <td>Unit 0065 Box 5052\\nDPO AP 27450</td>\n",
       "      <td>94 vE</td>\n",
       "      <td>PM</td>\n",
       "      <td>Mozilla/5.0 (compatible; MSIE 9.0; Windows NT ...</td>\n",
       "      <td>Simpson, Williams and Pham</td>\n",
       "      <td>675957666125</td>\n",
       "      <td>08/19</td>\n",
       "      <td>699</td>\n",
       "      <td>JCB 16 digit</td>\n",
       "      <td>amymiller@morales-harrison.com</td>\n",
       "      <td>Customer service manager</td>\n",
       "      <td>132.207.160.22</td>\n",
       "      <td>de</td>\n",
       "      <td>0.95</td>\n",
       "    </tr>\n",
       "    <tr>\n",
       "      <th>3</th>\n",
       "      <td>7780 Julia Fords\\nNew Stacy, WA 45798</td>\n",
       "      <td>36 vm</td>\n",
       "      <td>PM</td>\n",
       "      <td>Mozilla/5.0 (Macintosh; Intel Mac OS X 10_8_0 ...</td>\n",
       "      <td>Williams, Marshall and Buchanan</td>\n",
       "      <td>6011578504430710</td>\n",
       "      <td>02/24</td>\n",
       "      <td>384</td>\n",
       "      <td>Discover</td>\n",
       "      <td>brent16@olson-robinson.info</td>\n",
       "      <td>Drilling engineer</td>\n",
       "      <td>30.250.74.19</td>\n",
       "      <td>es</td>\n",
       "      <td>78.04</td>\n",
       "    </tr>\n",
       "    <tr>\n",
       "      <th>4</th>\n",
       "      <td>23012 Munoz Drive Suite 337\\nNew Cynthia, TX 5...</td>\n",
       "      <td>20 IE</td>\n",
       "      <td>AM</td>\n",
       "      <td>Opera/9.58.(X11; Linux x86_64; it-IT) Presto/2...</td>\n",
       "      <td>Brown, Watson and Andrews</td>\n",
       "      <td>6011456623207998</td>\n",
       "      <td>10/25</td>\n",
       "      <td>678</td>\n",
       "      <td>Diners Club / Carte Blanche</td>\n",
       "      <td>christopherwright@gmail.com</td>\n",
       "      <td>Fine artist</td>\n",
       "      <td>24.140.33.94</td>\n",
       "      <td>es</td>\n",
       "      <td>77.82</td>\n",
       "    </tr>\n",
       "  </tbody>\n",
       "</table>\n",
       "</div>"
      ],
      "text/plain": [
       "                                             Address    Lot AM or PM  \\\n",
       "0  16629 Pace Camp Apt. 448\\nAlexisborough, NE 77...  46 in       PM   \n",
       "1  9374 Jasmine Spurs Suite 508\\nSouth John, TN 8...  28 rn       PM   \n",
       "2                   Unit 0065 Box 5052\\nDPO AP 27450  94 vE       PM   \n",
       "3              7780 Julia Fords\\nNew Stacy, WA 45798  36 vm       PM   \n",
       "4  23012 Munoz Drive Suite 337\\nNew Cynthia, TX 5...  20 IE       AM   \n",
       "\n",
       "                                        Browser Info  \\\n",
       "0  Opera/9.56.(X11; Linux x86_64; sl-SI) Presto/2...   \n",
       "1  Opera/8.93.(Windows 98; Win 9x 4.90; en-US) Pr...   \n",
       "2  Mozilla/5.0 (compatible; MSIE 9.0; Windows NT ...   \n",
       "3  Mozilla/5.0 (Macintosh; Intel Mac OS X 10_8_0 ...   \n",
       "4  Opera/9.58.(X11; Linux x86_64; it-IT) Presto/2...   \n",
       "\n",
       "                           Company       Credit Card CC Exp Date  \\\n",
       "0                  Martinez-Herman  6011929061123406       02/20   \n",
       "1  Fletcher, Richards and Whitaker  3337758169645356       11/18   \n",
       "2       Simpson, Williams and Pham      675957666125       08/19   \n",
       "3  Williams, Marshall and Buchanan  6011578504430710       02/24   \n",
       "4        Brown, Watson and Andrews  6011456623207998       10/25   \n",
       "\n",
       "   CC Security Code                  CC Provider  \\\n",
       "0               900                 JCB 16 digit   \n",
       "1               561                   Mastercard   \n",
       "2               699                 JCB 16 digit   \n",
       "3               384                     Discover   \n",
       "4               678  Diners Club / Carte Blanche   \n",
       "\n",
       "                            Email                                     Job  \\\n",
       "0               pdunlap@yahoo.com  Scientist, product/process development   \n",
       "1              anthony41@reed.com                       Drilling engineer   \n",
       "2  amymiller@morales-harrison.com                Customer service manager   \n",
       "3     brent16@olson-robinson.info                       Drilling engineer   \n",
       "4     christopherwright@gmail.com                             Fine artist   \n",
       "\n",
       "        IP Address Language  Purchase Price  \n",
       "0  149.146.147.205       el           98.14  \n",
       "1     15.160.41.51       fr           70.73  \n",
       "2   132.207.160.22       de            0.95  \n",
       "3     30.250.74.19       es           78.04  \n",
       "4     24.140.33.94       es           77.82  "
      ]
     },
     "execution_count": 75,
     "metadata": {},
     "output_type": "execute_result"
    }
   ],
   "source": [
    "df.head()"
   ]
  },
  {
   "cell_type": "markdown",
   "metadata": {},
   "source": [
    "** How many rows and columns are there? **"
   ]
  },
  {
   "cell_type": "code",
   "execution_count": 76,
   "metadata": {},
   "outputs": [
    {
     "name": "stdout",
     "output_type": "stream",
     "text": [
      "<class 'pandas.core.frame.DataFrame'>\n",
      "RangeIndex: 10000 entries, 0 to 9999\n",
      "Data columns (total 14 columns):\n",
      " #   Column            Non-Null Count  Dtype  \n",
      "---  ------            --------------  -----  \n",
      " 0   Address           10000 non-null  object \n",
      " 1   Lot               10000 non-null  object \n",
      " 2   AM or PM          10000 non-null  object \n",
      " 3   Browser Info      10000 non-null  object \n",
      " 4   Company           10000 non-null  object \n",
      " 5   Credit Card       10000 non-null  int64  \n",
      " 6   CC Exp Date       10000 non-null  object \n",
      " 7   CC Security Code  10000 non-null  int64  \n",
      " 8   CC Provider       10000 non-null  object \n",
      " 9   Email             10000 non-null  object \n",
      " 10  Job               10000 non-null  object \n",
      " 11  IP Address        10000 non-null  object \n",
      " 12  Language          10000 non-null  object \n",
      " 13  Purchase Price    10000 non-null  float64\n",
      "dtypes: float64(1), int64(2), object(11)\n",
      "memory usage: 1.1+ MB\n"
     ]
    }
   ],
   "source": [
    "df.info()"
   ]
  },
  {
   "cell_type": "markdown",
   "metadata": {},
   "source": [
    "** What is the average Purchase Price? **"
   ]
  },
  {
   "cell_type": "code",
   "execution_count": 77,
   "metadata": {},
   "outputs": [
    {
     "data": {
      "text/plain": [
       "50.34730200000025"
      ]
     },
     "execution_count": 77,
     "metadata": {},
     "output_type": "execute_result"
    }
   ],
   "source": [
    "df['Purchase Price'].mean()"
   ]
  },
  {
   "cell_type": "markdown",
   "metadata": {},
   "source": [
    "** What were the highest and lowest purchase prices? **"
   ]
  },
  {
   "cell_type": "code",
   "execution_count": 78,
   "metadata": {},
   "outputs": [
    {
     "data": {
      "text/plain": [
       "99.99"
      ]
     },
     "execution_count": 78,
     "metadata": {},
     "output_type": "execute_result"
    }
   ],
   "source": [
    "df['Purchase Price'].max()"
   ]
  },
  {
   "cell_type": "code",
   "execution_count": 92,
   "metadata": {},
   "outputs": [
    {
     "data": {
      "text/plain": [
       "99.989999999999995"
      ]
     },
     "execution_count": 92,
     "metadata": {},
     "output_type": "execute_result"
    }
   ],
   "source": []
  },
  {
   "cell_type": "code",
   "execution_count": 79,
   "metadata": {},
   "outputs": [
    {
     "data": {
      "text/plain": [
       "0.0"
      ]
     },
     "execution_count": 79,
     "metadata": {},
     "output_type": "execute_result"
    }
   ],
   "source": [
    "df['Purchase Price'].min()"
   ]
  },
  {
   "cell_type": "code",
   "execution_count": 93,
   "metadata": {},
   "outputs": [
    {
     "data": {
      "text/plain": [
       "0.0"
      ]
     },
     "execution_count": 93,
     "metadata": {},
     "output_type": "execute_result"
    }
   ],
   "source": []
  },
  {
   "cell_type": "markdown",
   "metadata": {},
   "source": [
    "** How many people have English 'en' as their Language of choice on the website? **"
   ]
  },
  {
   "cell_type": "code",
   "execution_count": 80,
   "metadata": {},
   "outputs": [
    {
     "data": {
      "text/plain": [
       "Address             1098\n",
       "Lot                 1098\n",
       "AM or PM            1098\n",
       "Browser Info        1098\n",
       "Company             1098\n",
       "Credit Card         1098\n",
       "CC Exp Date         1098\n",
       "CC Security Code    1098\n",
       "CC Provider         1098\n",
       "Email               1098\n",
       "Job                 1098\n",
       "IP Address          1098\n",
       "Language            1098\n",
       "Purchase Price      1098\n",
       "dtype: int64"
      ]
     },
     "execution_count": 80,
     "metadata": {},
     "output_type": "execute_result"
    }
   ],
   "source": [
    "df[df['Language'] == 'en'].count()"
   ]
  },
  {
   "cell_type": "code",
   "execution_count": 94,
   "metadata": {},
   "outputs": [
    {
     "data": {
      "text/plain": [
       "Address             1098\n",
       "Lot                 1098\n",
       "AM or PM            1098\n",
       "Browser Info        1098\n",
       "Company             1098\n",
       "Credit Card         1098\n",
       "CC Exp Date         1098\n",
       "CC Security Code    1098\n",
       "CC Provider         1098\n",
       "Email               1098\n",
       "Job                 1098\n",
       "IP Address          1098\n",
       "Language            1098\n",
       "Purchase Price      1098\n",
       "dtype: int64"
      ]
     },
     "execution_count": 94,
     "metadata": {},
     "output_type": "execute_result"
    }
   ],
   "source": []
  },
  {
   "cell_type": "markdown",
   "metadata": {},
   "source": [
    "** How many people have the job title of \"Lawyer\" ? **\n"
   ]
  },
  {
   "cell_type": "code",
   "execution_count": 58,
   "metadata": {},
   "outputs": [
    {
     "data": {
      "text/plain": [
       "Address             30\n",
       "Lot                 30\n",
       "AM or PM            30\n",
       "Browser Info        30\n",
       "Company             30\n",
       "Credit Card         30\n",
       "CC Exp Date         30\n",
       "CC Security Code    30\n",
       "CC Provider         30\n",
       "Email               30\n",
       "Job                 30\n",
       "IP Address          30\n",
       "Language            30\n",
       "Purchase Price      30\n",
       "dtype: int64"
      ]
     },
     "execution_count": 58,
     "metadata": {},
     "output_type": "execute_result"
    }
   ],
   "source": [
    "df[df['Job'] == 'Lawyer'].count()"
   ]
  },
  {
   "cell_type": "code",
   "execution_count": 95,
   "metadata": {},
   "outputs": [
    {
     "name": "stdout",
     "output_type": "stream",
     "text": [
      "<class 'pandas.core.frame.DataFrame'>\n",
      "Int64Index: 30 entries, 470 to 9979\n",
      "Data columns (total 14 columns):\n",
      "Address             30 non-null object\n",
      "Lot                 30 non-null object\n",
      "AM or PM            30 non-null object\n",
      "Browser Info        30 non-null object\n",
      "Company             30 non-null object\n",
      "Credit Card         30 non-null int64\n",
      "CC Exp Date         30 non-null object\n",
      "CC Security Code    30 non-null int64\n",
      "CC Provider         30 non-null object\n",
      "Email               30 non-null object\n",
      "Job                 30 non-null object\n",
      "IP Address          30 non-null object\n",
      "Language            30 non-null object\n",
      "Purchase Price      30 non-null float64\n",
      "dtypes: float64(1), int64(2), object(11)\n",
      "memory usage: 3.5+ KB\n"
     ]
    }
   ],
   "source": []
  },
  {
   "cell_type": "markdown",
   "metadata": {},
   "source": [
    "** How many people made the purchase during the AM and how many people made the purchase during PM ? **\n",
    "\n",
    "**(Hint: Check out [value_counts()](http://pandas.pydata.org/pandas-docs/stable/generated/pandas.Series.value_counts.html) ) **"
   ]
  },
  {
   "cell_type": "code",
   "execution_count": 59,
   "metadata": {},
   "outputs": [
    {
     "data": {
      "text/plain": [
       "PM    5068\n",
       "AM    4932\n",
       "Name: AM or PM, dtype: int64"
      ]
     },
     "execution_count": 59,
     "metadata": {},
     "output_type": "execute_result"
    }
   ],
   "source": [
    "df['AM or PM'].value_counts()"
   ]
  },
  {
   "cell_type": "code",
   "execution_count": null,
   "metadata": {},
   "outputs": [],
   "source": [
    "# normalize fucntion"
   ]
  },
  {
   "cell_type": "code",
   "execution_count": 96,
   "metadata": {},
   "outputs": [
    {
     "data": {
      "text/plain": [
       "PM    5068\n",
       "AM    4932\n",
       "Name: AM or PM, dtype: int64"
      ]
     },
     "execution_count": 96,
     "metadata": {},
     "output_type": "execute_result"
    }
   ],
   "source": []
  },
  {
   "cell_type": "markdown",
   "metadata": {},
   "source": [
    "** What are the 5 most common Job Titles? **"
   ]
  },
  {
   "cell_type": "code",
   "execution_count": 60,
   "metadata": {},
   "outputs": [
    {
     "data": {
      "text/plain": [
       "Interior and spatial designer    31\n",
       "Lawyer                           30\n",
       "Social researcher                28\n",
       "Purchasing manager               27\n",
       "Designer, jewellery              27\n",
       "Name: Job, dtype: int64"
      ]
     },
     "execution_count": 60,
     "metadata": {},
     "output_type": "execute_result"
    }
   ],
   "source": [
    "df['Job'].value_counts()[:5]"
   ]
  },
  {
   "cell_type": "code",
   "execution_count": 97,
   "metadata": {},
   "outputs": [
    {
     "data": {
      "text/plain": [
       "Interior and spatial designer    31\n",
       "Lawyer                           30\n",
       "Social researcher                28\n",
       "Purchasing manager               27\n",
       "Designer, jewellery              27\n",
       "Name: Job, dtype: int64"
      ]
     },
     "execution_count": 97,
     "metadata": {},
     "output_type": "execute_result"
    }
   ],
   "source": []
  },
  {
   "cell_type": "markdown",
   "metadata": {},
   "source": [
    "** Someone made a purchase that came from Lot: \"90 WT\" , what was the Purchase Price for this transaction? **"
   ]
  },
  {
   "cell_type": "code",
   "execution_count": 61,
   "metadata": {},
   "outputs": [
    {
     "data": {
      "text/plain": [
       "513    75.1\n",
       "Name: Purchase Price, dtype: float64"
      ]
     },
     "execution_count": 61,
     "metadata": {},
     "output_type": "execute_result"
    }
   ],
   "source": [
    "df[df['Lot'] == '90 WT']['Purchase Price']"
   ]
  },
  {
   "cell_type": "code",
   "execution_count": 99,
   "metadata": {},
   "outputs": [
    {
     "data": {
      "text/plain": [
       "513    75.1\n",
       "Name: Purchase Price, dtype: float64"
      ]
     },
     "execution_count": 99,
     "metadata": {},
     "output_type": "execute_result"
    }
   ],
   "source": []
  },
  {
   "cell_type": "markdown",
   "metadata": {},
   "source": [
    "** What is the email of the person with the following Credit Card Number: 4926535242672853 **"
   ]
  },
  {
   "cell_type": "code",
   "execution_count": 62,
   "metadata": {},
   "outputs": [
    {
     "data": {
      "text/plain": [
       "Series([], Name: Email, dtype: object)"
      ]
     },
     "execution_count": 62,
     "metadata": {},
     "output_type": "execute_result"
    }
   ],
   "source": [
    "df[df['Credit Card'] == '4926535242672853']['Email']"
   ]
  },
  {
   "cell_type": "markdown",
   "metadata": {},
   "source": [
    "** How many people have American Express as their Credit Card Provider *and* made a purchase above $95 ?**"
   ]
  },
  {
   "cell_type": "code",
   "execution_count": 86,
   "metadata": {},
   "outputs": [
    {
     "data": {
      "text/plain": [
       "0       6011929061123406\n",
       "1       3337758169645356\n",
       "2           675957666125\n",
       "3       6011578504430710\n",
       "4       6011456623207998\n",
       "              ...       \n",
       "9995     342945015358701\n",
       "9996     210033169205009\n",
       "9997    6011539787356311\n",
       "9998     180003348082930\n",
       "9999    4139972901927273\n",
       "Name: Credit Card, Length: 10000, dtype: int64"
      ]
     },
     "execution_count": 86,
     "metadata": {},
     "output_type": "execute_result"
    }
   ],
   "source": [
    "df['Credit Card']"
   ]
  },
  {
   "cell_type": "code",
   "execution_count": 87,
   "metadata": {},
   "outputs": [
    {
     "data": {
      "text/plain": [
       "Address             39\n",
       "Lot                 39\n",
       "AM or PM            39\n",
       "Browser Info        39\n",
       "Company             39\n",
       "Credit Card         39\n",
       "CC Exp Date         39\n",
       "CC Security Code    39\n",
       "CC Provider         39\n",
       "Email               39\n",
       "Job                 39\n",
       "IP Address          39\n",
       "Language            39\n",
       "Purchase Price      39\n",
       "dtype: int64"
      ]
     },
     "execution_count": 87,
     "metadata": {},
     "output_type": "execute_result"
    }
   ],
   "source": [
    "df[(df['CC Provider'] == 'American Express') & (df['Purchase Price'] > 95)].count()"
   ]
  },
  {
   "cell_type": "code",
   "execution_count": 101,
   "metadata": {},
   "outputs": [
    {
     "data": {
      "text/plain": [
       "Address             39\n",
       "Lot                 39\n",
       "AM or PM            39\n",
       "Browser Info        39\n",
       "Company             39\n",
       "Credit Card         39\n",
       "CC Exp Date         39\n",
       "CC Security Code    39\n",
       "CC Provider         39\n",
       "Email               39\n",
       "Job                 39\n",
       "IP Address          39\n",
       "Language            39\n",
       "Purchase Price      39\n",
       "dtype: int64"
      ]
     },
     "execution_count": 101,
     "metadata": {},
     "output_type": "execute_result"
    }
   ],
   "source": []
  },
  {
   "cell_type": "markdown",
   "metadata": {},
   "source": [
    "** Hard: How many people have a credit card that expires in 2025? **"
   ]
  },
  {
   "cell_type": "code",
   "execution_count": 46,
   "metadata": {},
   "outputs": [
    {
     "data": {
      "text/plain": [
       "0       20\n",
       "1       18\n",
       "2       19\n",
       "3       24\n",
       "4       25\n",
       "        ..\n",
       "9995    22\n",
       "9996    25\n",
       "9997    21\n",
       "9998    17\n",
       "9999    19\n",
       "Name: CC Exp Date, Length: 10000, dtype: object"
      ]
     },
     "execution_count": 46,
     "metadata": {},
     "output_type": "execute_result"
    }
   ],
   "source": [
    "df['CC Exp Date'].str.split('/').str[-1]"
   ]
  },
  {
   "cell_type": "code",
   "execution_count": 102,
   "metadata": {},
   "outputs": [
    {
     "data": {
      "text/plain": [
       "1033"
      ]
     },
     "execution_count": 102,
     "metadata": {},
     "output_type": "execute_result"
    }
   ],
   "source": []
  },
  {
   "cell_type": "markdown",
   "metadata": {},
   "source": [
    "** Hard: What are the top 5 most popular email providers/hosts (e.g. gmail.com, yahoo.com, etc...) **"
   ]
  },
  {
   "cell_type": "code",
   "execution_count": 5,
   "metadata": {},
   "outputs": [
    {
     "data": {
      "text/plain": [
       "hotmail.com     1638\n",
       "yahoo.com       1616\n",
       "gmail.com       1605\n",
       "smith.com         42\n",
       "williams.com      37\n",
       "Name: Email, dtype: int64"
      ]
     },
     "execution_count": 5,
     "metadata": {},
     "output_type": "execute_result"
    }
   ],
   "source": [
    "df['Email'].str.split('@').str[-1].value_counts()[:5]"
   ]
  },
  {
   "cell_type": "code",
   "execution_count": 56,
   "metadata": {},
   "outputs": [
    {
     "data": {
      "text/plain": [
       "hotmail.com     1638\n",
       "yahoo.com       1616\n",
       "gmail.com       1605\n",
       "smith.com         42\n",
       "williams.com      37\n",
       "Name: Email, dtype: int64"
      ]
     },
     "execution_count": 56,
     "metadata": {},
     "output_type": "execute_result"
    }
   ],
   "source": []
  },
  {
   "cell_type": "markdown",
   "metadata": {},
   "source": [
    "# Q2 - Data visualisation\n",
    "\n",
    "* Use standard visualisation techniques to understand the \"ml.csv\" dataset\n",
    "* Fit a Random Forest Classifier \n",
    "* Find feature importances \n",
    "* Plot an AUC-ROC curve"
   ]
  },
  {
   "cell_type": "code",
   "execution_count": 38,
   "metadata": {},
   "outputs": [],
   "source": [
    "from sklearn.ensemble import RandomForestClassifier\n",
    "import matplotlib.pyplot as plt\n",
    "from sklearn.model_selection import train_test_split\n",
    "from sklearn.preprocessing import StandardScaler\n",
    "from sklearn.metrics import classification_report\n",
    "from sklearn.metrics import roc_curve, roc_auc_score, auc"
   ]
  },
  {
   "cell_type": "code",
   "execution_count": 7,
   "metadata": {},
   "outputs": [],
   "source": [
    "df_ml = pd.read_csv(r'E:\\Galytix Assignment\\Updated Python Test (1)\\Excercise- Python Proficiency\\Exercise - Python Proficiency\\data\\ml.csv')"
   ]
  },
  {
   "cell_type": "code",
   "execution_count": 8,
   "metadata": {},
   "outputs": [
    {
     "data": {
      "text/html": [
       "<div>\n",
       "<style scoped>\n",
       "    .dataframe tbody tr th:only-of-type {\n",
       "        vertical-align: middle;\n",
       "    }\n",
       "\n",
       "    .dataframe tbody tr th {\n",
       "        vertical-align: top;\n",
       "    }\n",
       "\n",
       "    .dataframe thead th {\n",
       "        text-align: right;\n",
       "    }\n",
       "</style>\n",
       "<table border=\"1\" class=\"dataframe\">\n",
       "  <thead>\n",
       "    <tr style=\"text-align: right;\">\n",
       "      <th></th>\n",
       "      <th>x0</th>\n",
       "      <th>x1</th>\n",
       "      <th>x2</th>\n",
       "      <th>x3</th>\n",
       "      <th>x4</th>\n",
       "      <th>x5</th>\n",
       "      <th>x6</th>\n",
       "      <th>x7</th>\n",
       "      <th>x8</th>\n",
       "      <th>x9</th>\n",
       "      <th>...</th>\n",
       "      <th>x11</th>\n",
       "      <th>x12</th>\n",
       "      <th>x13</th>\n",
       "      <th>x14</th>\n",
       "      <th>x15</th>\n",
       "      <th>x16</th>\n",
       "      <th>x17</th>\n",
       "      <th>x18</th>\n",
       "      <th>x19</th>\n",
       "      <th>y</th>\n",
       "    </tr>\n",
       "  </thead>\n",
       "  <tbody>\n",
       "    <tr>\n",
       "      <th>0</th>\n",
       "      <td>0.059856</td>\n",
       "      <td>-0.613184</td>\n",
       "      <td>2.322512</td>\n",
       "      <td>0.564453</td>\n",
       "      <td>0.564453</td>\n",
       "      <td>-1.537281</td>\n",
       "      <td>0.651346</td>\n",
       "      <td>1.241025</td>\n",
       "      <td>-0.526630</td>\n",
       "      <td>-0.321259</td>\n",
       "      <td>...</td>\n",
       "      <td>4.172215</td>\n",
       "      <td>0.896425</td>\n",
       "      <td>-2.137238</td>\n",
       "      <td>-0.524706</td>\n",
       "      <td>-0.182015</td>\n",
       "      <td>-3.541982</td>\n",
       "      <td>0.627917</td>\n",
       "      <td>2.322512</td>\n",
       "      <td>1.209449</td>\n",
       "      <td>0</td>\n",
       "    </tr>\n",
       "    <tr>\n",
       "      <th>1</th>\n",
       "      <td>-0.583660</td>\n",
       "      <td>-1.716858</td>\n",
       "      <td>-0.536196</td>\n",
       "      <td>1.132689</td>\n",
       "      <td>1.132689</td>\n",
       "      <td>3.363117</td>\n",
       "      <td>-0.344752</td>\n",
       "      <td>-6.147045</td>\n",
       "      <td>0.387888</td>\n",
       "      <td>0.225844</td>\n",
       "      <td>...</td>\n",
       "      <td>-3.368602</td>\n",
       "      <td>1.239733</td>\n",
       "      <td>-2.328327</td>\n",
       "      <td>-2.038456</td>\n",
       "      <td>0.152063</td>\n",
       "      <td>1.474279</td>\n",
       "      <td>0.085711</td>\n",
       "      <td>-0.536196</td>\n",
       "      <td>-0.910968</td>\n",
       "      <td>0</td>\n",
       "    </tr>\n",
       "    <tr>\n",
       "      <th>2</th>\n",
       "      <td>0.632819</td>\n",
       "      <td>0.754014</td>\n",
       "      <td>0.548169</td>\n",
       "      <td>-3.061347</td>\n",
       "      <td>-3.061347</td>\n",
       "      <td>1.723483</td>\n",
       "      <td>-1.107925</td>\n",
       "      <td>0.843077</td>\n",
       "      <td>-1.004112</td>\n",
       "      <td>1.006515</td>\n",
       "      <td>...</td>\n",
       "      <td>2.350002</td>\n",
       "      <td>-0.509790</td>\n",
       "      <td>1.014956</td>\n",
       "      <td>-0.133556</td>\n",
       "      <td>-1.280977</td>\n",
       "      <td>2.352125</td>\n",
       "      <td>-0.905258</td>\n",
       "      <td>0.548169</td>\n",
       "      <td>-0.424693</td>\n",
       "      <td>1</td>\n",
       "    </tr>\n",
       "    <tr>\n",
       "      <th>3</th>\n",
       "      <td>0.666025</td>\n",
       "      <td>-1.231859</td>\n",
       "      <td>-0.615159</td>\n",
       "      <td>-0.096564</td>\n",
       "      <td>-0.096564</td>\n",
       "      <td>-2.362081</td>\n",
       "      <td>-0.926052</td>\n",
       "      <td>-3.724770</td>\n",
       "      <td>-1.291843</td>\n",
       "      <td>3.339638</td>\n",
       "      <td>...</td>\n",
       "      <td>-1.435194</td>\n",
       "      <td>0.822062</td>\n",
       "      <td>-0.863488</td>\n",
       "      <td>0.944573</td>\n",
       "      <td>-0.657542</td>\n",
       "      <td>0.061348</td>\n",
       "      <td>2.600972</td>\n",
       "      <td>-0.615159</td>\n",
       "      <td>1.216673</td>\n",
       "      <td>0</td>\n",
       "    </tr>\n",
       "    <tr>\n",
       "      <th>4</th>\n",
       "      <td>0.059144</td>\n",
       "      <td>-0.159858</td>\n",
       "      <td>1.185429</td>\n",
       "      <td>1.675701</td>\n",
       "      <td>1.675701</td>\n",
       "      <td>-2.002485</td>\n",
       "      <td>0.718597</td>\n",
       "      <td>1.630679</td>\n",
       "      <td>0.734710</td>\n",
       "      <td>0.517748</td>\n",
       "      <td>...</td>\n",
       "      <td>3.498812</td>\n",
       "      <td>-0.397651</td>\n",
       "      <td>1.153317</td>\n",
       "      <td>-0.866617</td>\n",
       "      <td>1.498591</td>\n",
       "      <td>0.581942</td>\n",
       "      <td>-2.246284</td>\n",
       "      <td>1.185429</td>\n",
       "      <td>3.011774</td>\n",
       "      <td>1</td>\n",
       "    </tr>\n",
       "  </tbody>\n",
       "</table>\n",
       "<p>5 rows × 21 columns</p>\n",
       "</div>"
      ],
      "text/plain": [
       "         x0        x1        x2        x3        x4        x5        x6  \\\n",
       "0  0.059856 -0.613184  2.322512  0.564453  0.564453 -1.537281  0.651346   \n",
       "1 -0.583660 -1.716858 -0.536196  1.132689  1.132689  3.363117 -0.344752   \n",
       "2  0.632819  0.754014  0.548169 -3.061347 -3.061347  1.723483 -1.107925   \n",
       "3  0.666025 -1.231859 -0.615159 -0.096564 -0.096564 -2.362081 -0.926052   \n",
       "4  0.059144 -0.159858  1.185429  1.675701  1.675701 -2.002485  0.718597   \n",
       "\n",
       "         x7        x8        x9  ...       x11       x12       x13       x14  \\\n",
       "0  1.241025 -0.526630 -0.321259  ...  4.172215  0.896425 -2.137238 -0.524706   \n",
       "1 -6.147045  0.387888  0.225844  ... -3.368602  1.239733 -2.328327 -2.038456   \n",
       "2  0.843077 -1.004112  1.006515  ...  2.350002 -0.509790  1.014956 -0.133556   \n",
       "3 -3.724770 -1.291843  3.339638  ... -1.435194  0.822062 -0.863488  0.944573   \n",
       "4  1.630679  0.734710  0.517748  ...  3.498812 -0.397651  1.153317 -0.866617   \n",
       "\n",
       "        x15       x16       x17       x18       x19  y  \n",
       "0 -0.182015 -3.541982  0.627917  2.322512  1.209449  0  \n",
       "1  0.152063  1.474279  0.085711 -0.536196 -0.910968  0  \n",
       "2 -1.280977  2.352125 -0.905258  0.548169 -0.424693  1  \n",
       "3 -0.657542  0.061348  2.600972 -0.615159  1.216673  0  \n",
       "4  1.498591  0.581942 -2.246284  1.185429  3.011774  1  \n",
       "\n",
       "[5 rows x 21 columns]"
      ]
     },
     "execution_count": 8,
     "metadata": {},
     "output_type": "execute_result"
    }
   ],
   "source": [
    "df_ml.head()"
   ]
  },
  {
   "cell_type": "code",
   "execution_count": 14,
   "metadata": {},
   "outputs": [
    {
     "name": "stdout",
     "output_type": "stream",
     "text": [
      "<class 'pandas.core.frame.DataFrame'>\n",
      "RangeIndex: 1000 entries, 0 to 999\n",
      "Data columns (total 21 columns):\n",
      " #   Column  Non-Null Count  Dtype  \n",
      "---  ------  --------------  -----  \n",
      " 0   x0      1000 non-null   float64\n",
      " 1   x1      1000 non-null   float64\n",
      " 2   x2      1000 non-null   float64\n",
      " 3   x3      1000 non-null   float64\n",
      " 4   x4      1000 non-null   float64\n",
      " 5   x5      1000 non-null   float64\n",
      " 6   x6      1000 non-null   float64\n",
      " 7   x7      1000 non-null   float64\n",
      " 8   x8      1000 non-null   float64\n",
      " 9   x9      1000 non-null   float64\n",
      " 10  x10     1000 non-null   float64\n",
      " 11  x11     1000 non-null   float64\n",
      " 12  x12     1000 non-null   float64\n",
      " 13  x13     1000 non-null   float64\n",
      " 14  x14     1000 non-null   float64\n",
      " 15  x15     1000 non-null   float64\n",
      " 16  x16     1000 non-null   float64\n",
      " 17  x17     1000 non-null   float64\n",
      " 18  x18     1000 non-null   float64\n",
      " 19  x19     1000 non-null   float64\n",
      " 20  y       1000 non-null   int64  \n",
      "dtypes: float64(20), int64(1)\n",
      "memory usage: 164.2 KB\n"
     ]
    }
   ],
   "source": [
    "df_ml.info()"
   ]
  },
  {
   "cell_type": "code",
   "execution_count": 15,
   "metadata": {},
   "outputs": [
    {
     "data": {
      "text/plain": [
       "(1000, 21)"
      ]
     },
     "execution_count": 15,
     "metadata": {},
     "output_type": "execute_result"
    }
   ],
   "source": [
    "df_ml.shape"
   ]
  },
  {
   "cell_type": "code",
   "execution_count": 10,
   "metadata": {},
   "outputs": [
    {
     "data": {
      "text/html": [
       "<div>\n",
       "<style scoped>\n",
       "    .dataframe tbody tr th:only-of-type {\n",
       "        vertical-align: middle;\n",
       "    }\n",
       "\n",
       "    .dataframe tbody tr th {\n",
       "        vertical-align: top;\n",
       "    }\n",
       "\n",
       "    .dataframe thead th {\n",
       "        text-align: right;\n",
       "    }\n",
       "</style>\n",
       "<table border=\"1\" class=\"dataframe\">\n",
       "  <thead>\n",
       "    <tr style=\"text-align: right;\">\n",
       "      <th></th>\n",
       "      <th>x0</th>\n",
       "      <th>x1</th>\n",
       "      <th>x2</th>\n",
       "      <th>x3</th>\n",
       "      <th>x4</th>\n",
       "      <th>x5</th>\n",
       "      <th>x6</th>\n",
       "      <th>x7</th>\n",
       "      <th>x8</th>\n",
       "      <th>x9</th>\n",
       "      <th>x10</th>\n",
       "      <th>x11</th>\n",
       "      <th>x12</th>\n",
       "      <th>x13</th>\n",
       "      <th>x14</th>\n",
       "      <th>x15</th>\n",
       "      <th>x16</th>\n",
       "      <th>x17</th>\n",
       "      <th>x18</th>\n",
       "      <th>x19</th>\n",
       "    </tr>\n",
       "  </thead>\n",
       "  <tbody>\n",
       "    <tr>\n",
       "      <th>0</th>\n",
       "      <td>0.059856</td>\n",
       "      <td>-0.613184</td>\n",
       "      <td>2.322512</td>\n",
       "      <td>0.564453</td>\n",
       "      <td>0.564453</td>\n",
       "      <td>-1.537281</td>\n",
       "      <td>0.651346</td>\n",
       "      <td>1.241025</td>\n",
       "      <td>-0.526630</td>\n",
       "      <td>-0.321259</td>\n",
       "      <td>-4.535690</td>\n",
       "      <td>4.172215</td>\n",
       "      <td>0.896425</td>\n",
       "      <td>-2.137238</td>\n",
       "      <td>-0.524706</td>\n",
       "      <td>-0.182015</td>\n",
       "      <td>-3.541982</td>\n",
       "      <td>0.627917</td>\n",
       "      <td>2.322512</td>\n",
       "      <td>1.209449</td>\n",
       "    </tr>\n",
       "    <tr>\n",
       "      <th>1</th>\n",
       "      <td>-0.583660</td>\n",
       "      <td>-1.716858</td>\n",
       "      <td>-0.536196</td>\n",
       "      <td>1.132689</td>\n",
       "      <td>1.132689</td>\n",
       "      <td>3.363117</td>\n",
       "      <td>-0.344752</td>\n",
       "      <td>-6.147045</td>\n",
       "      <td>0.387888</td>\n",
       "      <td>0.225844</td>\n",
       "      <td>7.066254</td>\n",
       "      <td>-3.368602</td>\n",
       "      <td>1.239733</td>\n",
       "      <td>-2.328327</td>\n",
       "      <td>-2.038456</td>\n",
       "      <td>0.152063</td>\n",
       "      <td>1.474279</td>\n",
       "      <td>0.085711</td>\n",
       "      <td>-0.536196</td>\n",
       "      <td>-0.910968</td>\n",
       "    </tr>\n",
       "    <tr>\n",
       "      <th>2</th>\n",
       "      <td>0.632819</td>\n",
       "      <td>0.754014</td>\n",
       "      <td>0.548169</td>\n",
       "      <td>-3.061347</td>\n",
       "      <td>-3.061347</td>\n",
       "      <td>1.723483</td>\n",
       "      <td>-1.107925</td>\n",
       "      <td>0.843077</td>\n",
       "      <td>-1.004112</td>\n",
       "      <td>1.006515</td>\n",
       "      <td>4.435341</td>\n",
       "      <td>2.350002</td>\n",
       "      <td>-0.509790</td>\n",
       "      <td>1.014956</td>\n",
       "      <td>-0.133556</td>\n",
       "      <td>-1.280977</td>\n",
       "      <td>2.352125</td>\n",
       "      <td>-0.905258</td>\n",
       "      <td>0.548169</td>\n",
       "      <td>-0.424693</td>\n",
       "    </tr>\n",
       "    <tr>\n",
       "      <th>3</th>\n",
       "      <td>0.666025</td>\n",
       "      <td>-1.231859</td>\n",
       "      <td>-0.615159</td>\n",
       "      <td>-0.096564</td>\n",
       "      <td>-0.096564</td>\n",
       "      <td>-2.362081</td>\n",
       "      <td>-0.926052</td>\n",
       "      <td>-3.724770</td>\n",
       "      <td>-1.291843</td>\n",
       "      <td>3.339638</td>\n",
       "      <td>-1.425629</td>\n",
       "      <td>-1.435194</td>\n",
       "      <td>0.822062</td>\n",
       "      <td>-0.863488</td>\n",
       "      <td>0.944573</td>\n",
       "      <td>-0.657542</td>\n",
       "      <td>0.061348</td>\n",
       "      <td>2.600972</td>\n",
       "      <td>-0.615159</td>\n",
       "      <td>1.216673</td>\n",
       "    </tr>\n",
       "    <tr>\n",
       "      <th>4</th>\n",
       "      <td>0.059144</td>\n",
       "      <td>-0.159858</td>\n",
       "      <td>1.185429</td>\n",
       "      <td>1.675701</td>\n",
       "      <td>1.675701</td>\n",
       "      <td>-2.002485</td>\n",
       "      <td>0.718597</td>\n",
       "      <td>1.630679</td>\n",
       "      <td>0.734710</td>\n",
       "      <td>0.517748</td>\n",
       "      <td>-5.180607</td>\n",
       "      <td>3.498812</td>\n",
       "      <td>-0.397651</td>\n",
       "      <td>1.153317</td>\n",
       "      <td>-0.866617</td>\n",
       "      <td>1.498591</td>\n",
       "      <td>0.581942</td>\n",
       "      <td>-2.246284</td>\n",
       "      <td>1.185429</td>\n",
       "      <td>3.011774</td>\n",
       "    </tr>\n",
       "    <tr>\n",
       "      <th>...</th>\n",
       "      <td>...</td>\n",
       "      <td>...</td>\n",
       "      <td>...</td>\n",
       "      <td>...</td>\n",
       "      <td>...</td>\n",
       "      <td>...</td>\n",
       "      <td>...</td>\n",
       "      <td>...</td>\n",
       "      <td>...</td>\n",
       "      <td>...</td>\n",
       "      <td>...</td>\n",
       "      <td>...</td>\n",
       "      <td>...</td>\n",
       "      <td>...</td>\n",
       "      <td>...</td>\n",
       "      <td>...</td>\n",
       "      <td>...</td>\n",
       "      <td>...</td>\n",
       "      <td>...</td>\n",
       "      <td>...</td>\n",
       "    </tr>\n",
       "    <tr>\n",
       "      <th>995</th>\n",
       "      <td>-0.089335</td>\n",
       "      <td>-0.707953</td>\n",
       "      <td>-1.601152</td>\n",
       "      <td>3.344799</td>\n",
       "      <td>3.344799</td>\n",
       "      <td>-2.138397</td>\n",
       "      <td>-0.535857</td>\n",
       "      <td>0.765278</td>\n",
       "      <td>-0.358198</td>\n",
       "      <td>-1.660355</td>\n",
       "      <td>-4.766465</td>\n",
       "      <td>-6.017899</td>\n",
       "      <td>-0.324322</td>\n",
       "      <td>2.751492</td>\n",
       "      <td>2.023106</td>\n",
       "      <td>-0.070720</td>\n",
       "      <td>-0.159242</td>\n",
       "      <td>0.070483</td>\n",
       "      <td>-1.601152</td>\n",
       "      <td>-1.010918</td>\n",
       "    </tr>\n",
       "    <tr>\n",
       "      <th>996</th>\n",
       "      <td>0.796263</td>\n",
       "      <td>-0.544059</td>\n",
       "      <td>1.923068</td>\n",
       "      <td>-1.213895</td>\n",
       "      <td>-1.213895</td>\n",
       "      <td>-4.863790</td>\n",
       "      <td>0.970886</td>\n",
       "      <td>1.883344</td>\n",
       "      <td>0.936753</td>\n",
       "      <td>2.859356</td>\n",
       "      <td>-3.200602</td>\n",
       "      <td>2.827478</td>\n",
       "      <td>0.166317</td>\n",
       "      <td>1.350942</td>\n",
       "      <td>0.878975</td>\n",
       "      <td>-0.583111</td>\n",
       "      <td>-1.696265</td>\n",
       "      <td>1.597607</td>\n",
       "      <td>1.923068</td>\n",
       "      <td>-2.144857</td>\n",
       "    </tr>\n",
       "    <tr>\n",
       "      <th>997</th>\n",
       "      <td>0.006266</td>\n",
       "      <td>0.677183</td>\n",
       "      <td>1.111781</td>\n",
       "      <td>-0.392983</td>\n",
       "      <td>-0.392983</td>\n",
       "      <td>0.757790</td>\n",
       "      <td>-0.678159</td>\n",
       "      <td>2.550552</td>\n",
       "      <td>1.084215</td>\n",
       "      <td>2.059497</td>\n",
       "      <td>3.803106</td>\n",
       "      <td>7.076757</td>\n",
       "      <td>-1.113223</td>\n",
       "      <td>-1.856685</td>\n",
       "      <td>-0.884620</td>\n",
       "      <td>0.804411</td>\n",
       "      <td>-0.729983</td>\n",
       "      <td>-4.613538</td>\n",
       "      <td>1.111781</td>\n",
       "      <td>-1.170473</td>\n",
       "    </tr>\n",
       "    <tr>\n",
       "      <th>998</th>\n",
       "      <td>-0.598648</td>\n",
       "      <td>-1.018163</td>\n",
       "      <td>-0.892881</td>\n",
       "      <td>3.886200</td>\n",
       "      <td>3.886200</td>\n",
       "      <td>0.531769</td>\n",
       "      <td>1.616102</td>\n",
       "      <td>-3.609442</td>\n",
       "      <td>0.030014</td>\n",
       "      <td>-3.064055</td>\n",
       "      <td>-4.026865</td>\n",
       "      <td>-6.795032</td>\n",
       "      <td>-0.222822</td>\n",
       "      <td>0.350625</td>\n",
       "      <td>2.252174</td>\n",
       "      <td>-0.596400</td>\n",
       "      <td>-0.230354</td>\n",
       "      <td>-0.547367</td>\n",
       "      <td>-0.892881</td>\n",
       "      <td>2.406903</td>\n",
       "    </tr>\n",
       "    <tr>\n",
       "      <th>999</th>\n",
       "      <td>-0.731184</td>\n",
       "      <td>-1.105933</td>\n",
       "      <td>2.592094</td>\n",
       "      <td>0.478146</td>\n",
       "      <td>0.478146</td>\n",
       "      <td>-2.476153</td>\n",
       "      <td>0.023083</td>\n",
       "      <td>1.984368</td>\n",
       "      <td>0.278978</td>\n",
       "      <td>1.658869</td>\n",
       "      <td>-3.658256</td>\n",
       "      <td>5.387175</td>\n",
       "      <td>-1.519105</td>\n",
       "      <td>2.276860</td>\n",
       "      <td>-3.504439</td>\n",
       "      <td>-2.080188</td>\n",
       "      <td>2.059550</td>\n",
       "      <td>-0.875185</td>\n",
       "      <td>2.592094</td>\n",
       "      <td>1.786082</td>\n",
       "    </tr>\n",
       "  </tbody>\n",
       "</table>\n",
       "<p>1000 rows × 20 columns</p>\n",
       "</div>"
      ],
      "text/plain": [
       "           x0        x1        x2        x3        x4        x5        x6  \\\n",
       "0    0.059856 -0.613184  2.322512  0.564453  0.564453 -1.537281  0.651346   \n",
       "1   -0.583660 -1.716858 -0.536196  1.132689  1.132689  3.363117 -0.344752   \n",
       "2    0.632819  0.754014  0.548169 -3.061347 -3.061347  1.723483 -1.107925   \n",
       "3    0.666025 -1.231859 -0.615159 -0.096564 -0.096564 -2.362081 -0.926052   \n",
       "4    0.059144 -0.159858  1.185429  1.675701  1.675701 -2.002485  0.718597   \n",
       "..        ...       ...       ...       ...       ...       ...       ...   \n",
       "995 -0.089335 -0.707953 -1.601152  3.344799  3.344799 -2.138397 -0.535857   \n",
       "996  0.796263 -0.544059  1.923068 -1.213895 -1.213895 -4.863790  0.970886   \n",
       "997  0.006266  0.677183  1.111781 -0.392983 -0.392983  0.757790 -0.678159   \n",
       "998 -0.598648 -1.018163 -0.892881  3.886200  3.886200  0.531769  1.616102   \n",
       "999 -0.731184 -1.105933  2.592094  0.478146  0.478146 -2.476153  0.023083   \n",
       "\n",
       "           x7        x8        x9       x10       x11       x12       x13  \\\n",
       "0    1.241025 -0.526630 -0.321259 -4.535690  4.172215  0.896425 -2.137238   \n",
       "1   -6.147045  0.387888  0.225844  7.066254 -3.368602  1.239733 -2.328327   \n",
       "2    0.843077 -1.004112  1.006515  4.435341  2.350002 -0.509790  1.014956   \n",
       "3   -3.724770 -1.291843  3.339638 -1.425629 -1.435194  0.822062 -0.863488   \n",
       "4    1.630679  0.734710  0.517748 -5.180607  3.498812 -0.397651  1.153317   \n",
       "..        ...       ...       ...       ...       ...       ...       ...   \n",
       "995  0.765278 -0.358198 -1.660355 -4.766465 -6.017899 -0.324322  2.751492   \n",
       "996  1.883344  0.936753  2.859356 -3.200602  2.827478  0.166317  1.350942   \n",
       "997  2.550552  1.084215  2.059497  3.803106  7.076757 -1.113223 -1.856685   \n",
       "998 -3.609442  0.030014 -3.064055 -4.026865 -6.795032 -0.222822  0.350625   \n",
       "999  1.984368  0.278978  1.658869 -3.658256  5.387175 -1.519105  2.276860   \n",
       "\n",
       "          x14       x15       x16       x17       x18       x19  \n",
       "0   -0.524706 -0.182015 -3.541982  0.627917  2.322512  1.209449  \n",
       "1   -2.038456  0.152063  1.474279  0.085711 -0.536196 -0.910968  \n",
       "2   -0.133556 -1.280977  2.352125 -0.905258  0.548169 -0.424693  \n",
       "3    0.944573 -0.657542  0.061348  2.600972 -0.615159  1.216673  \n",
       "4   -0.866617  1.498591  0.581942 -2.246284  1.185429  3.011774  \n",
       "..        ...       ...       ...       ...       ...       ...  \n",
       "995  2.023106 -0.070720 -0.159242  0.070483 -1.601152 -1.010918  \n",
       "996  0.878975 -0.583111 -1.696265  1.597607  1.923068 -2.144857  \n",
       "997 -0.884620  0.804411 -0.729983 -4.613538  1.111781 -1.170473  \n",
       "998  2.252174 -0.596400 -0.230354 -0.547367 -0.892881  2.406903  \n",
       "999 -3.504439 -2.080188  2.059550 -0.875185  2.592094  1.786082  \n",
       "\n",
       "[1000 rows x 20 columns]"
      ]
     },
     "execution_count": 10,
     "metadata": {},
     "output_type": "execute_result"
    }
   ],
   "source": [
    "X = df_ml.drop('y', axis=1)\n",
    "X"
   ]
  },
  {
   "cell_type": "code",
   "execution_count": 11,
   "metadata": {},
   "outputs": [
    {
     "data": {
      "text/plain": [
       "0      0\n",
       "1      0\n",
       "2      1\n",
       "3      0\n",
       "4      1\n",
       "      ..\n",
       "995    0\n",
       "996    0\n",
       "997    1\n",
       "998    1\n",
       "999    1\n",
       "Name: y, Length: 1000, dtype: int64"
      ]
     },
     "execution_count": 11,
     "metadata": {},
     "output_type": "execute_result"
    }
   ],
   "source": [
    "y = df_ml['y']\n",
    "y"
   ]
  },
  {
   "cell_type": "code",
   "execution_count": 16,
   "metadata": {},
   "outputs": [],
   "source": [
    "X_train, X_test, y_train, y_test = train_test_split(X,y, test_size= 0.2)"
   ]
  },
  {
   "cell_type": "code",
   "execution_count": 18,
   "metadata": {},
   "outputs": [],
   "source": [
    "scaler = StandardScaler()\n",
    "X_train_trf = scaler.fit_transform(X_train)\n",
    "X_test_trf = scaler.transform(X_test)"
   ]
  },
  {
   "cell_type": "code",
   "execution_count": 19,
   "metadata": {},
   "outputs": [
    {
     "data": {
      "text/plain": [
       "RandomForestClassifier()"
      ]
     },
     "execution_count": 19,
     "metadata": {},
     "output_type": "execute_result"
    }
   ],
   "source": [
    "model = RandomForestClassifier()\n",
    "model.fit(X_train_trf, y_train)"
   ]
  },
  {
   "cell_type": "code",
   "execution_count": 20,
   "metadata": {},
   "outputs": [
    {
     "name": "stderr",
     "output_type": "stream",
     "text": [
      "c:\\Users\\gchin\\anaconda3\\lib\\site-packages\\sklearn\\base.py:443: UserWarning: X has feature names, but RandomForestClassifier was fitted without feature names\n",
      "  warnings.warn(\n"
     ]
    },
    {
     "data": {
      "text/plain": [
       "array([0, 1, 0, 1, 0, 0, 1, 0, 0, 1, 0, 0, 1, 0, 0, 0, 1, 0, 0, 0, 0, 1,\n",
       "       0, 0, 0, 1, 0, 1, 1, 0, 0, 0, 0, 0, 0, 1, 0, 0, 1, 0, 1, 0, 1, 0,\n",
       "       0, 0, 0, 1, 0, 0, 0, 0, 0, 0, 0, 0, 0, 0, 0, 0, 1, 1, 1, 0, 0, 1,\n",
       "       0, 0, 1, 0, 1, 1, 1, 0, 0, 0, 0, 1, 0, 0, 0, 1, 0, 0, 0, 0, 0, 0,\n",
       "       1, 0, 0, 0, 0, 0, 0, 1, 0, 0, 0, 0, 0, 1, 0, 0, 0, 0, 1, 1, 1, 0,\n",
       "       0, 0, 1, 0, 0, 1, 0, 1, 0, 0, 0, 0, 1, 0, 0, 0, 0, 0, 0, 1, 1, 0,\n",
       "       0, 1, 0, 0, 1, 0, 0, 1, 1, 0, 1, 0, 0, 0, 1, 0, 0, 0, 0, 1, 1, 0,\n",
       "       0, 0, 1, 0, 1, 0, 0, 0, 0, 0, 0, 0, 0, 1, 0, 1, 0, 0, 1, 0, 0, 1,\n",
       "       0, 0, 0, 1, 1, 0, 1, 0, 0, 0, 1, 0, 0, 0, 1, 1, 1, 0, 0, 0, 0, 1,\n",
       "       1, 0], dtype=int64)"
      ]
     },
     "execution_count": 20,
     "metadata": {},
     "output_type": "execute_result"
    }
   ],
   "source": [
    "pred = model.predict(X_test)\n",
    "pred"
   ]
  },
  {
   "cell_type": "code",
   "execution_count": 23,
   "metadata": {},
   "outputs": [
    {
     "name": "stdout",
     "output_type": "stream",
     "text": [
      "              precision    recall  f1-score   support\n",
      "\n",
      "           0       0.71      0.93      0.80       106\n",
      "           1       0.88      0.56      0.69        94\n",
      "\n",
      "    accuracy                           0.76       200\n",
      "   macro avg       0.80      0.75      0.75       200\n",
      "weighted avg       0.79      0.76      0.75       200\n",
      "\n"
     ]
    }
   ],
   "source": [
    "print(classification_report(y_test, pred))"
   ]
  },
  {
   "cell_type": "code",
   "execution_count": 32,
   "metadata": {},
   "outputs": [
    {
     "data": {
      "text/plain": [
       "array([0.03174024, 0.02939762, 0.07488044, 0.04398958, 0.04514196,\n",
       "       0.05154637, 0.0321565 , 0.10045434, 0.02616457, 0.07693283,\n",
       "       0.06365941, 0.03939191, 0.03107378, 0.04916899, 0.04726969,\n",
       "       0.02753605, 0.05541484, 0.05474092, 0.07456571, 0.04477426])"
      ]
     },
     "execution_count": 32,
     "metadata": {},
     "output_type": "execute_result"
    }
   ],
   "source": [
    "model.feature_importances_"
   ]
  },
  {
   "cell_type": "code",
   "execution_count": 33,
   "metadata": {},
   "outputs": [
    {
     "name": "stderr",
     "output_type": "stream",
     "text": [
      "c:\\Users\\gchin\\anaconda3\\lib\\site-packages\\sklearn\\base.py:443: UserWarning: X has feature names, but RandomForestClassifier was fitted without feature names\n",
      "  warnings.warn(\n"
     ]
    }
   ],
   "source": [
    "y_pred_prob = model.predict_proba(X_test)[:, 1]"
   ]
  },
  {
   "cell_type": "code",
   "execution_count": 35,
   "metadata": {},
   "outputs": [],
   "source": [
    "fpr, tpr, thresholds = roc_curve(y_test, y_pred_prob)"
   ]
  },
  {
   "cell_type": "code",
   "execution_count": 36,
   "metadata": {},
   "outputs": [],
   "source": [
    "roc_auc = auc(fpr, tpr)"
   ]
  },
  {
   "cell_type": "code",
   "execution_count": 39,
   "metadata": {},
   "outputs": [
    {
     "data": {
      "image/png": "[encoded data removed]",
      "text/plain": [
       "<Figure size 800x600 with 1 Axes>"
      ]
     },
     "metadata": {},
     "output_type": "display_data"
    }
   ],
   "source": [
    "plt.figure(figsize=(8, 6))\n",
    "plt.plot(fpr, tpr, color='darkorange', lw=2, label='ROC curve (area = %0.2f)' % roc_auc)\n",
    "plt.plot([0, 1], [0, 1], color='navy', lw=2, linestyle='--')\n",
    "plt.xlim([0.0, 1.0])\n",
    "plt.ylim([0.0, 1.05])\n",
    "plt.xlabel('False Positive Rate')\n",
    "plt.ylabel('True Positive Rate')\n",
    "plt.title('Receiver Operating Characteristic (ROC) Curve')\n",
    "plt.legend(loc=\"lower right\")\n",
    "plt.show()"
   ]
  },
  {
   "cell_type": "code",
   "execution_count": null,
   "metadata": {},
   "outputs": [],
   "source": []
  },
  {
   "cell_type": "markdown",
   "metadata": {},
   "source": [
    "# Q3 - Regression Model\n",
    "Ananlyze the data in \"Position_Salaries.csv\" and fit a polynomial regression model on the dataset\n",
    "* Visualize the dataset\n",
    "* Fit a regressing model (simple/polynomial)\n",
    "* Analyse and plot residuals\n",
    "* Describe what metric would you use to evaluate this kind of model (mean sq error/ mean log error  etc)"
   ]
  },
  {
   "cell_type": "code",
   "execution_count": 31,
   "metadata": {},
   "outputs": [],
   "source": [
    "from sklearn.linear_model import LinearRegression"
   ]
  },
  {
   "cell_type": "code",
   "execution_count": 28,
   "metadata": {},
   "outputs": [],
   "source": [
    "df2 = pd.read_csv(r'E:\\Galytix Assignment\\Updated Python Test (1)\\Excercise- Python Proficiency\\Exercise - Python Proficiency\\data\\Position_Salaries.csv')"
   ]
  },
  {
   "cell_type": "code",
   "execution_count": 29,
   "metadata": {},
   "outputs": [
    {
     "data": {
      "text/html": [
       "<div>\n",
       "<style scoped>\n",
       "    .dataframe tbody tr th:only-of-type {\n",
       "        vertical-align: middle;\n",
       "    }\n",
       "\n",
       "    .dataframe tbody tr th {\n",
       "        vertical-align: top;\n",
       "    }\n",
       "\n",
       "    .dataframe thead th {\n",
       "        text-align: right;\n",
       "    }\n",
       "</style>\n",
       "<table border=\"1\" class=\"dataframe\">\n",
       "  <thead>\n",
       "    <tr style=\"text-align: right;\">\n",
       "      <th></th>\n",
       "      <th>Position</th>\n",
       "      <th>Level</th>\n",
       "      <th>Salary</th>\n",
       "    </tr>\n",
       "  </thead>\n",
       "  <tbody>\n",
       "    <tr>\n",
       "      <th>0</th>\n",
       "      <td>Business Analyst</td>\n",
       "      <td>1</td>\n",
       "      <td>45000</td>\n",
       "    </tr>\n",
       "    <tr>\n",
       "      <th>1</th>\n",
       "      <td>Junior Consultant</td>\n",
       "      <td>2</td>\n",
       "      <td>50000</td>\n",
       "    </tr>\n",
       "    <tr>\n",
       "      <th>2</th>\n",
       "      <td>Senior Consultant</td>\n",
       "      <td>3</td>\n",
       "      <td>60000</td>\n",
       "    </tr>\n",
       "    <tr>\n",
       "      <th>3</th>\n",
       "      <td>Manager</td>\n",
       "      <td>4</td>\n",
       "      <td>80000</td>\n",
       "    </tr>\n",
       "    <tr>\n",
       "      <th>4</th>\n",
       "      <td>Country Manager</td>\n",
       "      <td>5</td>\n",
       "      <td>110000</td>\n",
       "    </tr>\n",
       "  </tbody>\n",
       "</table>\n",
       "</div>"
      ],
      "text/plain": [
       "            Position  Level  Salary\n",
       "0   Business Analyst      1   45000\n",
       "1  Junior Consultant      2   50000\n",
       "2  Senior Consultant      3   60000\n",
       "3            Manager      4   80000\n",
       "4    Country Manager      5  110000"
      ]
     },
     "execution_count": 29,
     "metadata": {},
     "output_type": "execute_result"
    }
   ],
   "source": [
    "df2.head()"
   ]
  },
  {
   "cell_type": "markdown",
   "metadata": {},
   "source": [
    "Not enough to data to train a model"
   ]
  },
  {
   "cell_type": "code",
   "execution_count": null,
   "metadata": {},
   "outputs": [],
   "source": [
    "#"
   ]
  }
 ],
 "metadata": {
  "kernelspec": {
   "display_name": "Python 3",
   "language": "python",
   "name": "python3"
  },
  "language_info": {
   "codemirror_mode": {
    "name": "ipython",
    "version": 3
   },
   "file_extension": ".py",
   "mimetype": "text/x-python",
   "name": "python",
   "nbconvert_exporter": "python",
   "pygments_lexer": "ipython3",
   "version": "3.9.13"
  }
 },
 "nbformat": 4,
 "nbformat_minor": 1
}
